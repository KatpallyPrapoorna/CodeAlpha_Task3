{
  "nbformat": 4,
  "nbformat_minor": 0,
  "metadata": {
    "colab": {
      "provenance": []
    },
    "kernelspec": {
      "name": "python3",
      "display_name": "Python 3"
    },
    "language_info": {
      "name": "python"
    }
  },
  "cells": [
    {
      "cell_type": "code",
      "source": [
        "pip install requests beautifulsoup4 pandas\n"
      ],
      "metadata": {
        "colab": {
          "base_uri": "https://localhost:8080/"
        },
        "id": "w9Q8Rj_GH8q3",
        "outputId": "828ab940-3dad-4e05-eb9f-4d70d14c9aed"
      },
      "execution_count": 103,
      "outputs": [
        {
          "output_type": "stream",
          "name": "stdout",
          "text": [
            "Requirement already satisfied: requests in /usr/local/lib/python3.12/dist-packages (2.32.4)\n",
            "Requirement already satisfied: beautifulsoup4 in /usr/local/lib/python3.12/dist-packages (4.13.5)\n",
            "Requirement already satisfied: pandas in /usr/local/lib/python3.12/dist-packages (2.2.2)\n",
            "Requirement already satisfied: charset_normalizer<4,>=2 in /usr/local/lib/python3.12/dist-packages (from requests) (3.4.3)\n",
            "Requirement already satisfied: idna<4,>=2.5 in /usr/local/lib/python3.12/dist-packages (from requests) (3.10)\n",
            "Requirement already satisfied: urllib3<3,>=1.21.1 in /usr/local/lib/python3.12/dist-packages (from requests) (2.5.0)\n",
            "Requirement already satisfied: certifi>=2017.4.17 in /usr/local/lib/python3.12/dist-packages (from requests) (2025.8.3)\n",
            "Requirement already satisfied: soupsieve>1.2 in /usr/local/lib/python3.12/dist-packages (from beautifulsoup4) (2.7)\n",
            "Requirement already satisfied: typing-extensions>=4.0.0 in /usr/local/lib/python3.12/dist-packages (from beautifulsoup4) (4.15.0)\n",
            "Requirement already satisfied: numpy>=1.26.0 in /usr/local/lib/python3.12/dist-packages (from pandas) (2.0.2)\n",
            "Requirement already satisfied: python-dateutil>=2.8.2 in /usr/local/lib/python3.12/dist-packages (from pandas) (2.9.0.post0)\n",
            "Requirement already satisfied: pytz>=2020.1 in /usr/local/lib/python3.12/dist-packages (from pandas) (2025.2)\n",
            "Requirement already satisfied: tzdata>=2022.7 in /usr/local/lib/python3.12/dist-packages (from pandas) (2025.2)\n",
            "Requirement already satisfied: six>=1.5 in /usr/local/lib/python3.12/dist-packages (from python-dateutil>=2.8.2->pandas) (1.17.0)\n"
          ]
        }
      ]
    },
    {
      "cell_type": "code",
      "execution_count": 104,
      "metadata": {
        "id": "1w2iL49UFjOD"
      },
      "outputs": [],
      "source": [
        "from bs4 import BeautifulSoup\n",
        "import requests\n",
        "import smtplib\n",
        "import time\n",
        "import datetime\n",
        "import pandas as pd"
      ]
    },
    {
      "cell_type": "code",
      "source": [
        "url = \"https://www.amazon.in/Fuda-While-Printed-Sleeve-Cotton/dp/B0CY4P4FH1/ref=sr_1_15?crid=T3QRL3OMQMDS&dib=eyJ2IjoiMSJ9.EkFu8ZndNLnSqdsrbxi1MTa8EtzZj6I5nyfTJOnhSyhS54rPvPMlgf4cp8MYCFOiv3C9ILCy2U63c3DdFkQNRE29WKdIzOkjSx07Lw68CdJSGE9Tqx3N9D0f2mPqh5kvCoA1YKRQxb44ScnMX3Y5DJ9lCILKUYIGmkLIzLvmuZrizLmN_2hVLJooKhiHwdHH77VsGCWXKvAkUkaKjnu0zuzi6dl34Vcm_B2mQru8wNWZNXWB1mP6jCkfm8iROWSNwn-0Pav-pleyE9KuY0lC8rWoLXUrZ_wT7FIgWXtbmDA.IugN9zAF8CboIqUUoEdZs0DsnKn6IYXON6ghYbtKTrU&dib_tag=se&keywords=data%2Banalyst%2Btshirt&qid=1756541885&sprefix=data%2Banalyst%2Btshirt%2Caps%2C258&sr=8-15&th=1&psc=1\"\n",
        "headers ={\"Accept\": \"text/html,application/xhtml+xml,application/xml;q=0.9,image/avif,image/webp,image/apng,*/*;q=0.8,application/signed-exchange;v=b3;q=0.7\",\n",
        "    \"Accept-Encoding\": \"gzip, deflate, br, zstd\",\n",
        "    \"Accept-Language\": \"en-US,en;q=0.9\",\n",
        "    \"User-Agent\":\"Mozilla/5.0 (Windows NT 10.0; Win64; x64) AppleWebKit/537.36 (KHTML, like Gecko) Chrome/139.0.0.0 Safari/537.36\"}\n",
        "page = requests.get(url,headers=headers)\n",
        "soup1 = BeautifulSoup(page.content,\"html.parser\")\n",
        "soup2 = BeautifulSoup(soup1.prettify(),\"html.parser\")\n",
        "title = soup2.find(id=\"productTitle\").get_text().strip()\n",
        "price = soup2.find(id=\"corePriceDisplay_desktop_feature_div\").get_text().strip()[1:7]\n",
        "print(title)\n",
        "print(price)\n"
      ],
      "metadata": {
        "colab": {
          "base_uri": "https://localhost:8080/"
        },
        "id": "lND5Z5isJQOe",
        "outputId": "29c55e48-17ab-4dcd-85f3-cade4efd88c3"
      },
      "execution_count": 105,
      "outputs": [
        {
          "output_type": "stream",
          "name": "stdout",
          "text": [
            "Fuda: While Alive Eat Sleep Code Geek Printed Half Sleeve Cotton T Shirt for Men & Women\n",
            "499.00\n"
          ]
        }
      ]
    },
    {
      "cell_type": "code",
      "source": [
        "type(price)"
      ],
      "metadata": {
        "colab": {
          "base_uri": "https://localhost:8080/"
        },
        "id": "EtSnGW6TUyas",
        "outputId": "ae819325-10b9-481b-f71e-2fb0eda0b279"
      },
      "execution_count": 106,
      "outputs": [
        {
          "output_type": "execute_result",
          "data": {
            "text/plain": [
              "str"
            ]
          },
          "metadata": {},
          "execution_count": 106
        }
      ]
    },
    {
      "cell_type": "code",
      "source": [
        "today= datetime.date.today()\n",
        "print(today)"
      ],
      "metadata": {
        "colab": {
          "base_uri": "https://localhost:8080/"
        },
        "id": "Q9qPXuDccaTC",
        "outputId": "fd6ebf43-ec84-4c5b-eb31-7e42e6eb0ad4"
      },
      "execution_count": 107,
      "outputs": [
        {
          "output_type": "stream",
          "name": "stdout",
          "text": [
            "2025-08-30\n"
          ]
        }
      ]
    },
    {
      "cell_type": "code",
      "source": [
        "import csv\n",
        "headers=['title','price','Date']\n",
        "data = [title,price,today]\n",
        "\n",
        "with open('AmazonWebScraperDatset.csv','w',newline='', encoding ='UTF8') as f:\n",
        "    writer = csv.writer(f)\n",
        "    writer.writerow(headers)\n",
        "    writer.writerow(data)"
      ],
      "metadata": {
        "id": "TpWg_SxKU0hR"
      },
      "execution_count": 108,
      "outputs": []
    },
    {
      "cell_type": "code",
      "source": [
        "df = pd.read_csv(\"/content/AmazonWebScraperDatset.csv\")\n",
        "print(df)"
      ],
      "metadata": {
        "colab": {
          "base_uri": "https://localhost:8080/"
        },
        "id": "3_B7fTPMc0EY",
        "outputId": "2a49375a-a29d-48d7-cc87-95f5f859eed5"
      },
      "execution_count": 114,
      "outputs": [
        {
          "output_type": "stream",
          "name": "stdout",
          "text": [
            "                                               title  price        Date\n",
            "0  Fuda: While Alive Eat Sleep Code Geek Printed ...  499.0  2025-08-30\n",
            "1  Fuda: While Alive Eat Sleep Code Geek Printed ...  499.0  2025-08-30\n",
            "2  Fuda: While Alive Eat Sleep Code Geek Printed ...  499.0  2025-08-30\n",
            "3  Fuda: While Alive Eat Sleep Code Geek Printed ...  499.0  2025-08-30\n"
          ]
        }
      ]
    },
    {
      "cell_type": "code",
      "source": [
        "with open('AmazonWebScraperDatset.csv','a+',newline='', encoding ='UTF8') as f:\n",
        "    writer = csv.writer(f)\n",
        "\n",
        "    writer.writerow(data)"
      ],
      "metadata": {
        "id": "1x1q2DFAc7-O"
      },
      "execution_count": 113,
      "outputs": []
    },
    {
      "cell_type": "code",
      "source": [
        "def check_price():\n",
        "  url = \"https://www.amazon.in/Fuda-While-Printed-Sleeve-Cotton/dp/B0CY4P4FH1/ref=sr_1_15?crid=T3QRL3OMQMDS&dib=eyJ2IjoiMSJ9.EkFu8ZndNLnSqdsrbxi1MTa8EtzZj6I5nyfTJOnhSyhS54rPvPMlgf4cp8MYCFOiv3C9ILCy2U63c3DdFkQNRE29WKdIzOkjSx07Lw68CdJSGE9Tqx3N9D0f2mPqh5kvCoA1YKRQxb44ScnMX3Y5DJ9lCILKUYIGmkLIzLvmuZrizLmN_2hVLJooKhiHwdHH77VsGCWXKvAkUkaKjnu0zuzi6dl34Vcm_B2mQru8wNWZNXWB1mP6jCkfm8iROWSNwn-0Pav-pleyE9KuY0lC8rWoLXUrZ_wT7FIgWXtbmDA.IugN9zAF8CboIqUUoEdZs0DsnKn6IYXON6ghYbtKTrU&dib_tag=se&keywords=data%2Banalyst%2Btshirt&qid=1756541885&sprefix=data%2Banalyst%2Btshirt%2Caps%2C258&sr=8-15&th=1&psc=1\"\n",
        "  headers ={\"Accept\": \"text/html,application/xhtml+xml,application/xml;q=0.9,image/avif,image/webp,image/apng,*/*;q=0.8,application/signed-exchange;v=b3;q=0.7\",\n",
        "    \"Accept-Encoding\": \"gzip, deflate, br, zstd\",\n",
        "    \"Accept-Language\": \"en-US,en;q=0.9\",\n",
        "    \"User-Agent\":\"Mozilla/5.0 (Windows NT 10.0; Win64; x64) AppleWebKit/537.36 (KHTML, like Gecko) Chrome/139.0.0.0 Safari/537.36\"}\n",
        "  page = requests.get(url,headers=headers)\n",
        "  soup1 = BeautifulSoup(page.content,\"html.parser\")\n",
        "  soup2 = BeautifulSoup(soup1.prettify(),\"html.parser\")\n",
        "  title = soup2.find(id=\"productTitle\").get_text().strip()\n",
        "  price = soup2.find(id=\"corePriceDisplay_desktop_feature_div\").get_text().strip()[1:7]\n",
        "  print(title)\n",
        "  print(price)\n",
        "\n",
        "  today= datetime.date.today()\n",
        "  print(today)\n",
        "\n",
        "  header = ['Title','Price','Date']\n",
        "  data = [title,price,today]\n",
        "  with open('AmazonWebScraperDataset.csv','a+',newline='',encoding='UTF8') as f:\n",
        "    writer = csv.writer(f)\n",
        "    writer.writerow(data)\n",
        "\n"
      ],
      "metadata": {
        "id": "ntB9WPskwq8S"
      },
      "execution_count": 115,
      "outputs": []
    },
    {
      "cell_type": "code",
      "source": [
        "while( not True):\n",
        "  check_price()\n",
        "  time.sleep(0)"
      ],
      "metadata": {
        "id": "mVpgnf1CxI0g"
      },
      "execution_count": 125,
      "outputs": []
    },
    {
      "cell_type": "code",
      "source": [
        "df = pd.read_csv(\"/content/AmazonWebScraperDatset.csv\")\n",
        "print(df)"
      ],
      "metadata": {
        "colab": {
          "base_uri": "https://localhost:8080/"
        },
        "id": "aWvA49jVxLOt",
        "outputId": "dd98375f-da6e-49dc-fc56-cb48ce2209ca"
      },
      "execution_count": 122,
      "outputs": [
        {
          "output_type": "stream",
          "name": "stdout",
          "text": [
            "                                               title  price        Date\n",
            "0  Fuda: While Alive Eat Sleep Code Geek Printed ...  499.0  2025-08-30\n",
            "1  Fuda: While Alive Eat Sleep Code Geek Printed ...  499.0  2025-08-30\n",
            "2  Fuda: While Alive Eat Sleep Code Geek Printed ...  499.0  2025-08-30\n",
            "3  Fuda: While Alive Eat Sleep Code Geek Printed ...  499.0  2025-08-30\n"
          ]
        }
      ]
    }
  ]
}